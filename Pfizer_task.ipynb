{
  "nbformat": 4,
  "nbformat_minor": 0,
  "metadata": {
    "colab": {
      "name": "Pfizer_task.ipynb",
      "provenance": [],
      "authorship_tag": "ABX9TyPegwxX3cb6ZZicUUv9B94B",
      "include_colab_link": true
    },
    "kernelspec": {
      "name": "python3",
      "display_name": "Python 3"
    }
  },
  "cells": [
    {
      "cell_type": "markdown",
      "metadata": {
        "id": "view-in-github",
        "colab_type": "text"
      },
      "source": [
        "<a href=\"https://colab.research.google.com/github/apalmk/pfizer_task/blob/master/Pfizer_task.ipynb\" target=\"_parent\"><img src=\"https://colab.research.google.com/assets/colab-badge.svg\" alt=\"Open In Colab\"/></a>"
      ]
    },
    {
      "cell_type": "markdown",
      "metadata": {
        "id": "ZZywPK3GtrNE",
        "colab_type": "text"
      },
      "source": [
        "#Pfizer Task"
      ]
    },
    {
      "cell_type": "markdown",
      "metadata": {
        "id": "Vk21umtXsYrX",
        "colab_type": "text"
      },
      "source": [
        "###Question 1"
      ]
    },
    {
      "cell_type": "code",
      "metadata": {
        "id": "u93-crCpt8mM",
        "colab_type": "code",
        "colab": {
          "base_uri": "https://localhost:8080/",
          "height": 141
        },
        "outputId": "23d04ffc-62d2-47b0-8433-d8305d1fecf7"
      },
      "source": [
        "#Loading the required libraries\n",
        "#load drive\n",
        "from google.colab import drive\n",
        "import pandas as pd\n",
        "from datetime import datetime\n",
        "drive.mount('/content/gdrive')\n",
        "import statistics\n",
        "import numpy as np\n",
        "from sklearn.utils import shuffle\n",
        "import matplotlib.pyplot as plt\n",
        "from scipy import stats\n",
        "\n",
        "from sklearn.model_selection import train_test_split\n",
        "from sklearn.preprocessing import OneHotEncoder\n",
        "from sklearn.compose import make_column_transformer \n",
        "from sklearn.pipeline import make_pipeline, Pipeline\n",
        "from sklearn.preprocessing import PolynomialFeatures\n",
        "from sklearn.inspection import permutation_importance\n",
        "from sklearn.model_selection import cross_val_score \n",
        "from sklearn.preprocessing import StandardScaler \n",
        "from sklearn.ensemble import RandomForestClassifier\n",
        "from sklearn.model_selection import GridSearchCV \n",
        "from sklearn.linear_model import LogisticRegression, LogisticRegressionCV\n",
        "from sklearn.model_selection import KFold\n",
        "from keras.models import Sequential\n",
        "from keras.layers import Dense, Activation"
      ],
      "execution_count": 1,
      "outputs": [
        {
          "output_type": "stream",
          "text": [
            "Go to this URL in a browser: https://accounts.google.com/o/oauth2/auth?client_id=947318989803-6bn6qk8qdgf4n4g3pfee6491hc0brc4i.apps.googleusercontent.com&redirect_uri=urn%3aietf%3awg%3aoauth%3a2.0%3aoob&response_type=code&scope=email%20https%3a%2f%2fwww.googleapis.com%2fauth%2fdocs.test%20https%3a%2f%2fwww.googleapis.com%2fauth%2fdrive%20https%3a%2f%2fwww.googleapis.com%2fauth%2fdrive.photos.readonly%20https%3a%2f%2fwww.googleapis.com%2fauth%2fpeopleapi.readonly\n",
            "\n",
            "Enter your authorization code:\n",
            "··········\n",
            "Mounted at /content/gdrive\n"
          ],
          "name": "stdout"
        },
        {
          "output_type": "stream",
          "text": [
            "Using TensorFlow backend.\n"
          ],
          "name": "stderr"
        }
      ]
    },
    {
      "cell_type": "markdown",
      "metadata": {
        "id": "nPo6DVTyD-oU",
        "colab_type": "text"
      },
      "source": [
        "##Question 1 - Data loading"
      ]
    },
    {
      "cell_type": "code",
      "metadata": {
        "id": "uqLM66kCsK5J",
        "colab_type": "code",
        "colab": {}
      },
      "source": [
        "#Loading the data from the drug adminstration date table\n",
        "df = pd.read_csv('/content/gdrive/My Drive/drug_admin_date1.csv')\n",
        "\n",
        "#Loading the data from the drug test flags table\n",
        "drug_flag = pd.read_csv('/content/gdrive/My Drive/drug_flags.csv')"
      ],
      "execution_count": 0,
      "outputs": []
    },
    {
      "cell_type": "markdown",
      "metadata": {
        "id": "qd69nRSLFkbX",
        "colab_type": "text"
      },
      "source": [
        "### Question 1 \n",
        "A. We find the treatment time for each patient by subtracting the first time he was given the drug from the last time he was given the drug."
      ]
    },
    {
      "cell_type": "code",
      "metadata": {
        "id": "7JCpx7W5vRj2",
        "colab_type": "code",
        "colab": {}
      },
      "source": [
        "#Finding the length of treatment for each patient \n",
        "dicti=df.groupby('Patient_ID')['Drug_admin_date'].apply(lambda x: x.tolist()).to_dict()"
      ],
      "execution_count": 0,
      "outputs": []
    },
    {
      "cell_type": "code",
      "metadata": {
        "id": "rJvxl4C8wAOD",
        "colab_type": "code",
        "colab": {
          "base_uri": "https://localhost:8080/",
          "height": 86
        },
        "outputId": "ac02833c-d6b8-4f73-902f-d1747a4a2d39"
      },
      "source": [
        "#Initializing the patient and treatment length dicitonary\n",
        "dicti1={}\n",
        "for i in dicti.keys():\n",
        "  li=[]\n",
        "  for j in dicti[i]:\n",
        "    li.append(datetime.strptime(j, '%m/%d/%y'))\n",
        "  dicti1[i]=li\n",
        "\n",
        "dicti2={}\n",
        "for i in dicti1.keys():\n",
        "  dicti2[i]=(max(dicti1[i])-min(dicti1[i])).days\n",
        "\n",
        "print(\"Patients that have treatment time as 0 are:\")\n",
        "#for 3 patients with the following IDs we have the treatment time as 0, as the drug was administered only once to them\n",
        "#The IDs of those patients are\n",
        "for i in dicti2.keys():\n",
        "  if dicti2[i]==0:\n",
        "    print(i)"
      ],
      "execution_count": 5,
      "outputs": [
        {
          "output_type": "stream",
          "text": [
            "Patients that have treatment time as 0 are:\n",
            "2634\n",
            "6837\n",
            "6922\n"
          ],
          "name": "stdout"
        }
      ]
    },
    {
      "cell_type": "markdown",
      "metadata": {
        "id": "4CNMA8TdD7ol",
        "colab_type": "text"
      },
      "source": [
        "The patients with IDs given above had only one date associated with them, maybe because the drug was administered only once to them. To such patients the treatment time is taken as 0."
      ]
    },
    {
      "cell_type": "code",
      "metadata": {
        "id": "V8O5KnVpzoUu",
        "colab_type": "code",
        "colab": {}
      },
      "source": [
        "#Converting the dicitonary into a dataframe\n",
        "df1=pd.DataFrame(dicti2.items(), columns=[\"Patient_ID\",\"treatment_len_days\"])"
      ],
      "execution_count": 0,
      "outputs": []
    },
    {
      "cell_type": "code",
      "metadata": {
        "id": "xoVrIMRo21OM",
        "colab_type": "code",
        "colab": {
          "base_uri": "https://localhost:8080/",
          "height": 198
        },
        "outputId": "18285299-d6de-431b-a789-c49744c4d9bd"
      },
      "source": [
        "df1.head()"
      ],
      "execution_count": 7,
      "outputs": [
        {
          "output_type": "execute_result",
          "data": {
            "text/html": [
              "<div>\n",
              "<style scoped>\n",
              "    .dataframe tbody tr th:only-of-type {\n",
              "        vertical-align: middle;\n",
              "    }\n",
              "\n",
              "    .dataframe tbody tr th {\n",
              "        vertical-align: top;\n",
              "    }\n",
              "\n",
              "    .dataframe thead th {\n",
              "        text-align: right;\n",
              "    }\n",
              "</style>\n",
              "<table border=\"1\" class=\"dataframe\">\n",
              "  <thead>\n",
              "    <tr style=\"text-align: right;\">\n",
              "      <th></th>\n",
              "      <th>Patient_ID</th>\n",
              "      <th>treatment_len_days</th>\n",
              "    </tr>\n",
              "  </thead>\n",
              "  <tbody>\n",
              "    <tr>\n",
              "      <th>0</th>\n",
              "      <td>2038</td>\n",
              "      <td>56</td>\n",
              "    </tr>\n",
              "    <tr>\n",
              "      <th>1</th>\n",
              "      <td>2120</td>\n",
              "      <td>3002</td>\n",
              "    </tr>\n",
              "    <tr>\n",
              "      <th>2</th>\n",
              "      <td>2175</td>\n",
              "      <td>3019</td>\n",
              "    </tr>\n",
              "    <tr>\n",
              "      <th>3</th>\n",
              "      <td>2407</td>\n",
              "      <td>2140</td>\n",
              "    </tr>\n",
              "    <tr>\n",
              "      <th>4</th>\n",
              "      <td>2425</td>\n",
              "      <td>1986</td>\n",
              "    </tr>\n",
              "  </tbody>\n",
              "</table>\n",
              "</div>"
            ],
            "text/plain": [
              "   Patient_ID  treatment_len_days\n",
              "0        2038                  56\n",
              "1        2120                3002\n",
              "2        2175                3019\n",
              "3        2407                2140\n",
              "4        2425                1986"
            ]
          },
          "metadata": {
            "tags": []
          },
          "execution_count": 7
        }
      ]
    },
    {
      "cell_type": "code",
      "metadata": {
        "id": "nkzXihSPxnf7",
        "colab_type": "code",
        "colab": {}
      },
      "source": [
        "#Merging the normal dataframe with the treatment times\n",
        "fin_df=pd.merge(df1, drug_flag, on='Patient_ID', how='inner')"
      ],
      "execution_count": 0,
      "outputs": []
    },
    {
      "cell_type": "code",
      "metadata": {
        "id": "JMGlBI77qxSs",
        "colab_type": "code",
        "colab": {
          "base_uri": "https://localhost:8080/",
          "height": 198
        },
        "outputId": "cd5a688d-55ae-45f8-c3e0-32953d043cad"
      },
      "source": [
        "fin_df.head()"
      ],
      "execution_count": 10,
      "outputs": [
        {
          "output_type": "execute_result",
          "data": {
            "text/html": [
              "<div>\n",
              "<style scoped>\n",
              "    .dataframe tbody tr th:only-of-type {\n",
              "        vertical-align: middle;\n",
              "    }\n",
              "\n",
              "    .dataframe tbody tr th {\n",
              "        vertical-align: top;\n",
              "    }\n",
              "\n",
              "    .dataframe thead th {\n",
              "        text-align: right;\n",
              "    }\n",
              "</style>\n",
              "<table border=\"1\" class=\"dataframe\">\n",
              "  <thead>\n",
              "    <tr style=\"text-align: right;\">\n",
              "      <th></th>\n",
              "      <th>Patient_ID</th>\n",
              "      <th>treatment_len_days</th>\n",
              "      <th>drug_390_admin_flag</th>\n",
              "      <th>ER_positive</th>\n",
              "      <th>PR_positive</th>\n",
              "      <th>HER2_positive</th>\n",
              "    </tr>\n",
              "  </thead>\n",
              "  <tbody>\n",
              "    <tr>\n",
              "      <th>0</th>\n",
              "      <td>2038</td>\n",
              "      <td>56</td>\n",
              "      <td>1</td>\n",
              "      <td>1</td>\n",
              "      <td>1</td>\n",
              "      <td>0</td>\n",
              "    </tr>\n",
              "    <tr>\n",
              "      <th>1</th>\n",
              "      <td>2120</td>\n",
              "      <td>3002</td>\n",
              "      <td>0</td>\n",
              "      <td>1</td>\n",
              "      <td>0</td>\n",
              "      <td>1</td>\n",
              "    </tr>\n",
              "    <tr>\n",
              "      <th>2</th>\n",
              "      <td>2175</td>\n",
              "      <td>3019</td>\n",
              "      <td>0</td>\n",
              "      <td>0</td>\n",
              "      <td>0</td>\n",
              "      <td>0</td>\n",
              "    </tr>\n",
              "    <tr>\n",
              "      <th>3</th>\n",
              "      <td>2407</td>\n",
              "      <td>2140</td>\n",
              "      <td>0</td>\n",
              "      <td>0</td>\n",
              "      <td>1</td>\n",
              "      <td>0</td>\n",
              "    </tr>\n",
              "    <tr>\n",
              "      <th>4</th>\n",
              "      <td>2425</td>\n",
              "      <td>1986</td>\n",
              "      <td>1</td>\n",
              "      <td>0</td>\n",
              "      <td>0</td>\n",
              "      <td>0</td>\n",
              "    </tr>\n",
              "  </tbody>\n",
              "</table>\n",
              "</div>"
            ],
            "text/plain": [
              "   Patient_ID  treatment_len_days  ...  PR_positive  HER2_positive\n",
              "0        2038                  56  ...            1              0\n",
              "1        2120                3002  ...            0              1\n",
              "2        2175                3019  ...            0              0\n",
              "3        2407                2140  ...            1              0\n",
              "4        2425                1986  ...            0              0\n",
              "\n",
              "[5 rows x 6 columns]"
            ]
          },
          "metadata": {
            "tags": []
          },
          "execution_count": 10
        }
      ]
    },
    {
      "cell_type": "markdown",
      "metadata": {
        "id": "vYnBST6GEqRt",
        "colab_type": "text"
      },
      "source": [
        "HR is positive if either of ER or PR are positive, it is negative otherwise."
      ]
    },
    {
      "cell_type": "code",
      "metadata": {
        "id": "31djBbmcqyIq",
        "colab_type": "code",
        "colab": {}
      },
      "source": [
        "#Adding HR column\n",
        "fin_df[\"HR_positive\"]=fin_df[\"ER_positive\"] | fin_df[\"PR_positive\"]"
      ],
      "execution_count": 0,
      "outputs": []
    },
    {
      "cell_type": "code",
      "metadata": {
        "id": "_SPBjf2MrevP",
        "colab_type": "code",
        "colab": {}
      },
      "source": [
        "#Adding a new column called category to identify the category of patient based on HR/HER2\n",
        "ll=[]\n",
        "for row in fin_df.itertuples(index=False):\n",
        "  d=row._asdict()\n",
        "  if d[\"HER2_positive\"] == 0 and d[\"HR_positive\"]==0:\n",
        "    ll.append('A')\n",
        "  elif d[\"HER2_positive\"] == 0 and d[\"HR_positive\"]==1:\n",
        "    ll.append('B')\n",
        "  elif d[\"HER2_positive\"] == 1 and d[\"HR_positive\"]==0:\n",
        "    ll.append('C')\n",
        "  else:\n",
        "    ll.append('D')\n",
        "\n",
        "fin_df[\"category\"]= ll"
      ],
      "execution_count": 0,
      "outputs": []
    },
    {
      "cell_type": "code",
      "metadata": {
        "id": "l-8-88xfs7gu",
        "colab_type": "code",
        "colab": {
          "base_uri": "https://localhost:8080/",
          "height": 198
        },
        "outputId": "5d672abf-f3a0-4aea-87cc-d06dea4acb4a"
      },
      "source": [
        "fin_df.head()"
      ],
      "execution_count": 13,
      "outputs": [
        {
          "output_type": "execute_result",
          "data": {
            "text/html": [
              "<div>\n",
              "<style scoped>\n",
              "    .dataframe tbody tr th:only-of-type {\n",
              "        vertical-align: middle;\n",
              "    }\n",
              "\n",
              "    .dataframe tbody tr th {\n",
              "        vertical-align: top;\n",
              "    }\n",
              "\n",
              "    .dataframe thead th {\n",
              "        text-align: right;\n",
              "    }\n",
              "</style>\n",
              "<table border=\"1\" class=\"dataframe\">\n",
              "  <thead>\n",
              "    <tr style=\"text-align: right;\">\n",
              "      <th></th>\n",
              "      <th>Patient_ID</th>\n",
              "      <th>treatment_len_days</th>\n",
              "      <th>drug_390_admin_flag</th>\n",
              "      <th>ER_positive</th>\n",
              "      <th>PR_positive</th>\n",
              "      <th>HER2_positive</th>\n",
              "      <th>HR_positive</th>\n",
              "      <th>category</th>\n",
              "    </tr>\n",
              "  </thead>\n",
              "  <tbody>\n",
              "    <tr>\n",
              "      <th>0</th>\n",
              "      <td>2038</td>\n",
              "      <td>56</td>\n",
              "      <td>1</td>\n",
              "      <td>1</td>\n",
              "      <td>1</td>\n",
              "      <td>0</td>\n",
              "      <td>1</td>\n",
              "      <td>B</td>\n",
              "    </tr>\n",
              "    <tr>\n",
              "      <th>1</th>\n",
              "      <td>2120</td>\n",
              "      <td>3002</td>\n",
              "      <td>0</td>\n",
              "      <td>1</td>\n",
              "      <td>0</td>\n",
              "      <td>1</td>\n",
              "      <td>1</td>\n",
              "      <td>D</td>\n",
              "    </tr>\n",
              "    <tr>\n",
              "      <th>2</th>\n",
              "      <td>2175</td>\n",
              "      <td>3019</td>\n",
              "      <td>0</td>\n",
              "      <td>0</td>\n",
              "      <td>0</td>\n",
              "      <td>0</td>\n",
              "      <td>0</td>\n",
              "      <td>A</td>\n",
              "    </tr>\n",
              "    <tr>\n",
              "      <th>3</th>\n",
              "      <td>2407</td>\n",
              "      <td>2140</td>\n",
              "      <td>0</td>\n",
              "      <td>0</td>\n",
              "      <td>1</td>\n",
              "      <td>0</td>\n",
              "      <td>1</td>\n",
              "      <td>B</td>\n",
              "    </tr>\n",
              "    <tr>\n",
              "      <th>4</th>\n",
              "      <td>2425</td>\n",
              "      <td>1986</td>\n",
              "      <td>1</td>\n",
              "      <td>0</td>\n",
              "      <td>0</td>\n",
              "      <td>0</td>\n",
              "      <td>0</td>\n",
              "      <td>A</td>\n",
              "    </tr>\n",
              "  </tbody>\n",
              "</table>\n",
              "</div>"
            ],
            "text/plain": [
              "   Patient_ID  treatment_len_days  ...  HR_positive  category\n",
              "0        2038                  56  ...            1         B\n",
              "1        2120                3002  ...            1         D\n",
              "2        2175                3019  ...            0         A\n",
              "3        2407                2140  ...            1         B\n",
              "4        2425                1986  ...            0         A\n",
              "\n",
              "[5 rows x 8 columns]"
            ]
          },
          "metadata": {
            "tags": []
          },
          "execution_count": 13
        }
      ]
    },
    {
      "cell_type": "markdown",
      "metadata": {
        "id": "6nITw2oDtAuU",
        "colab_type": "text"
      },
      "source": [
        "### How I defined each category\n",
        "\n",
        "\n",
        "\n",
        "\\begin{array}{ccc}\n",
        "\\text{HER2_status}&\\text{HR_status}&\\text{Category}\\\\\n",
        "0&0&A\\\\\n",
        "0&1&B\\\\\n",
        "1&0&C\\\\\n",
        "1&1&D\n",
        "\\end{array}"
      ]
    },
    {
      "cell_type": "markdown",
      "metadata": {
        "id": "YS602C50vKRn",
        "colab_type": "text"
      },
      "source": [
        "### Question 1 \n",
        "B. Comparing the length of treatment of patients of Drug 390 v/s generic"
      ]
    },
    {
      "cell_type": "code",
      "metadata": {
        "id": "yI-E0VWOvYIR",
        "colab_type": "code",
        "colab": {
          "base_uri": "https://localhost:8080/",
          "height": 404
        },
        "outputId": "61512553-c543-41ea-9032-db495d2315bb"
      },
      "source": [
        "\n",
        "fl = fin_df['drug_390_admin_flag'] == 1\n",
        "\n",
        "data_to_plot = [fin_df[fl]['treatment_len_days'], fin_df[~fl]['treatment_len_days']]\n",
        "\n",
        "plt.figure(figsize=(10, 6))\n",
        "box = plt.boxplot(data_to_plot,\n",
        "                  positions=[1, 2],\n",
        "                  labels=['drug 390','generic'], showmeans=True)\n",
        "\n",
        "plt.title('Box plots of treatment time')\n",
        "plt.xlabel('drug administered')\n",
        "plt.ylabel('treatment time');"
      ],
      "execution_count": 15,
      "outputs": [
        {
          "output_type": "display_data",
          "data": {
            "image/png": "[encoded data removed]",
            "text/plain": [
              "<Figure size 720x432 with 1 Axes>"
            ]
          },
          "metadata": {
            "tags": [],
            "needs_background": "light"
          }
        }
      ]
    },
    {
      "cell_type": "markdown",
      "metadata": {
        "id": "r9-RwnYQwTu8",
        "colab_type": "text"
      },
      "source": [
        "* We can see that the spread or range is more for the patients that took our drug 390. This means that treatment time varied more for the people that were administered our drug compared to the ones that were administered the generic one. \n",
        "\n",
        "\n",
        "* The median no of days it takes for the treatment is almost the same for both the drugs.\n",
        "\n",
        "\n",
        "* The upper and lower whisker of the drug 390 are lower than the generic, this means that the largest and the smallest treatment time is smaller in the people that took the drug 390. \n",
        "\n",
        "\n",
        "* We can see that the treatment time of 0 was considered as an outlier for the people that were administered the generic drug, this is because there are not many treatment times close to 0 for the people that were given the generic drug. (It lies under lower_whisker - 1.5 x IQR)\n",
        "\n",
        "* Eventhough nearly half of the people in the both cases had a treatment time of 2300 days or less, the people that were given drug 390 had smaller treatment times than their counter parts in some of the cases."
      ]
    },
    {
      "cell_type": "code",
      "metadata": {
        "id": "SLi0GUEF0dnl",
        "colab_type": "code",
        "colab": {
          "base_uri": "https://localhost:8080/",
          "height": 52
        },
        "outputId": "b2d9f372-1d3c-42ea-c9cd-e0dc8a206594"
      },
      "source": [
        "#medians of both the groups\n",
        "print(\"People that were administered Drug 390 had a median treatment time of: \",statistics.median(fin_df[fl]['treatment_len_days']))\n",
        "\n",
        "print(\"People that were administered the generic drug had a median treatment time of: \",statistics.median(fin_df[~fl]['treatment_len_days']))"
      ],
      "execution_count": 16,
      "outputs": [
        {
          "output_type": "stream",
          "text": [
            "People that were administered Drug 390 had a median treatment time of:  2306.5\n",
            "People that were administered the generic drug had a median treatment time of:  2483\n"
          ],
          "name": "stdout"
        }
      ]
    },
    {
      "cell_type": "markdown",
      "metadata": {
        "id": "9rsWg1mU1W-s",
        "colab_type": "text"
      },
      "source": [
        "### Question 1\n",
        "C. Comparing the length of treatment of patients of Drug 390 v/s generic by category"
      ]
    },
    {
      "cell_type": "code",
      "metadata": {
        "id": "bKSr5aSG1Ycu",
        "colab_type": "code",
        "colab": {
          "base_uri": "https://localhost:8080/",
          "height": 404
        },
        "outputId": "df3b2596-b5ae-41a4-cd22-9b43c4dbd6b1"
      },
      "source": [
        "la_390=[]\n",
        "la=[]\n",
        "lb_390=[]\n",
        "lb=[]\n",
        "lc_390=[]\n",
        "lc=[]\n",
        "ld_390=[]\n",
        "ld=[]\n",
        "for row in fin_df.itertuples(index=False):\n",
        "  d=row._asdict()\n",
        "  if d[\"category\"] == 'A' and d[\"drug_390_admin_flag\"]==1:\n",
        "    la_390.append(d[\"treatment_len_days\"])\n",
        "  if d[\"category\"] == 'A' and d[\"drug_390_admin_flag\"]==0:\n",
        "    la.append(d[\"treatment_len_days\"])\n",
        "  if d[\"category\"] == 'B' and d[\"drug_390_admin_flag\"]==1:\n",
        "    lb_390.append(d[\"treatment_len_days\"])\n",
        "  if d[\"category\"] == 'B' and d[\"drug_390_admin_flag\"]==0:\n",
        "    lb.append(d[\"treatment_len_days\"])\n",
        "  if d[\"category\"]=='C' and d[\"drug_390_admin_flag\"]==1:\n",
        "    lc_390.append(d[\"treatment_len_days\"])\n",
        "  if d[\"category\"]=='C' and d[\"drug_390_admin_flag\"]==0:\n",
        "    lc.append(d[\"treatment_len_days\"])\n",
        "  if d[\"category\"]=='D' and d[\"drug_390_admin_flag\"]==1:\n",
        "    ld_390.append(d[\"treatment_len_days\"])\n",
        "  if d[\"category\"]=='D' and d[\"drug_390_admin_flag\"]==0:\n",
        "    ld.append(d[\"treatment_len_days\"])\n",
        "\n",
        "data_to_plot = [la_390, la,\n",
        "                lb_390, lb,\n",
        "                lc_390, lc,\n",
        "                ld_390, ld]\n",
        "\n",
        "plt.figure(figsize=(10, 6))\n",
        "box = plt.boxplot(data_to_plot,\n",
        "                  positions=[1, 1.5, 2.5, 3, 4, 4.5, 5.5, 6],\n",
        "                  labels=['A 390','A generic','B 390','B generic','C 390','C generic','D 390','D generic'], showmeans=True)\n",
        "\n",
        "plt.title('Box plots of category-drug pairs v/s the treatment time')\n",
        "plt.xlabel('category-drug')\n",
        "plt.ylabel('treatment time');\n"
      ],
      "execution_count": 52,
      "outputs": [
        {
          "output_type": "display_data",
          "data": {
            "image/png": "[encoded data removed]",
            "text/plain": [
              "<Figure size 720x432 with 1 Axes>"
            ]
          },
          "metadata": {
            "tags": [],
            "needs_background": "light"
          }
        }
      ]
    },
    {
      "cell_type": "markdown",
      "metadata": {
        "id": "xu5BaRpbEYlK",
        "colab_type": "text"
      },
      "source": [
        "\n",
        "\n",
        "*   We can see that for the category A (HER2 negative and HR negative) the drug 390 has smaller treatment time in general, and there is a lot of difference in the median treatment times.\n",
        "\n",
        "*   The same goes for the category B (HER2 negative, HR positive), we also see that the distribution is symmetric around the median in the case of drug 390. We can also see that the largest and the smallest treatment times are equal for both drug 390 and generic drug recepients.\n",
        "\n",
        "*   In the case of C (HER2 positive, HR negative), we only have one data point (only one patient). This patient was adiministered the drug 390.\n",
        "\n",
        "\n",
        "*   We can see that there are only 4 points (patients) associated with the drug 390 that belonged to the category D (that is why the smallest point is inside the lower quartile). The medians are comparable in both the cases and there are outliers in both the cases. \n",
        "\n",
        "*   Note: The green triangles show the means.\n",
        "\n",
        "\n",
        "\n",
        "\n",
        "\n"
      ]
    },
    {
      "cell_type": "markdown",
      "metadata": {
        "id": "IRRQW0097fJW",
        "colab_type": "text"
      },
      "source": [
        "### Let us see why the plots for categories 'C' and 'D' look like this "
      ]
    },
    {
      "cell_type": "code",
      "metadata": {
        "id": "zAawiWrY5_sB",
        "colab_type": "code",
        "colab": {
          "base_uri": "https://localhost:8080/",
          "height": 777
        },
        "outputId": "14ac08bb-3464-4041-92e7-bc705db86272"
      },
      "source": [
        "grp=fin_df[['Patient_ID','treatment_len_days','category','drug_390_admin_flag']].groupby([\"category\",\"drug_390_admin_flag\"])\n",
        "\n",
        "for g in grp:\n",
        "  print(g)"
      ],
      "execution_count": 38,
      "outputs": [
        {
          "output_type": "stream",
          "text": [
            "(('A', 0),     Patient_ID  treatment_len_days category  drug_390_admin_flag\n",
            "2         2175                3019        A                    0\n",
            "5         2462                1797        A                    0\n",
            "30        7937                1365        A                    0\n",
            "31        7976                3186        A                    0\n",
            "32        8480                3125        A                    0)\n",
            "(('A', 1),     Patient_ID  treatment_len_days category  drug_390_admin_flag\n",
            "4         2425                1986        A                    1\n",
            "21        6321                2115        A                    1\n",
            "27        7230                1479        A                    1)\n",
            "(('B', 0),     Patient_ID  treatment_len_days category  drug_390_admin_flag\n",
            "3         2407                2140        B                    0\n",
            "6         2634                   0        B                    0\n",
            "9         2770                1323        B                    0\n",
            "11        3449                2892        B                    0\n",
            "15        4354                2549        B                    0\n",
            "16        4374                1036        B                    0\n",
            "25        6889                2901        B                    0\n",
            "35        9331                2345        B                    0)\n",
            "(('B', 1),     Patient_ID  treatment_len_days category  drug_390_admin_flag\n",
            "0         2038                  56        B                    1\n",
            "7         2735                  22        B                    1\n",
            "12        3757                2830        B                    1\n",
            "26        6922                   0        B                    1\n",
            "33        8615                2910        B                    1\n",
            "34        8827                2911        B                    1)\n",
            "(('C', 1),     Patient_ID  treatment_len_days category  drug_390_admin_flag\n",
            "23        6840                3169        C                    1)\n",
            "(('D', 0),     Patient_ID  treatment_len_days category  drug_390_admin_flag\n",
            "1         2120                3002        D                    0\n",
            "8         2763                3245        D                    0\n",
            "10        3095                2082        D                    0\n",
            "13        3948                2642        D                    0\n",
            "14        4256                2756        D                    0\n",
            "17        4692                2483        D                    0\n",
            "18        5259                2156        D                    0\n",
            "20        6281                2427        D                    0\n",
            "28        7242                 952        D                    0\n",
            "36        9489                3424        D                    0)\n",
            "(('D', 1),     Patient_ID  treatment_len_days category  drug_390_admin_flag\n",
            "19        5657                2577        D                    1\n",
            "22        6837                   0        D                    1\n",
            "24        6877                2498        D                    1\n",
            "29        7796                2890        D                    1)\n"
          ],
          "name": "stdout"
        }
      ]
    },
    {
      "cell_type": "markdown",
      "metadata": {
        "id": "mcAnSi1F7o1s",
        "colab_type": "text"
      },
      "source": [
        "###This happened because of imbalenced distribution of data into categories\n",
        "\n",
        "There were no patients in category C that were given generic drug, and there was only one patient that was given the drug 390. Overall there was only one patient in category C(HER status 1, HR status 0).\n",
        "There are only 4 patients in category D that were given the drug 390, and one of them is an outlier (0 treatment days). "
      ]
    },
    {
      "cell_type": "markdown",
      "metadata": {
        "id": "IT0XI-sii-86",
        "colab_type": "text"
      },
      "source": [
        "### Question 1\n",
        "D. The treatment time will be a compelling target to predict from this dataset. \n",
        "\n",
        "With a new patient we can first identify his/her HER2 status, ER status and PR status, and then make two samples, one in which we give him the generic drug (drug 390 flag = 0), and another in which we give him the drug 390 (drug 390 flag = 1). Then we can use our trained model to predict the treatment time for these two samples.\n",
        "\n",
        "Using this prediction we can decide if we should go with the drug 390 or the generic drug for this patient. Other features about the patients such as the age etc, might also affect the treatment time and inturn help us make better predicitions.\n"
      ]
    },
    {
      "cell_type": "markdown",
      "metadata": {
        "id": "BpmspAQtk_LP",
        "colab_type": "text"
      },
      "source": [
        "## Question 2 - Data loading and pre-processing"
      ]
    },
    {
      "cell_type": "code",
      "metadata": {
        "id": "2imsudkalCDA",
        "colab_type": "code",
        "colab": {}
      },
      "source": [
        "#importing the data\n",
        "data = pd.read_csv('/content/gdrive/My Drive/heart_data.csv')"
      ],
      "execution_count": 0,
      "outputs": []
    },
    {
      "cell_type": "code",
      "metadata": {
        "id": "3ki1eheOmi-o",
        "colab_type": "code",
        "colab": {
          "base_uri": "https://localhost:8080/",
          "height": 198
        },
        "outputId": "6ce70db4-327a-44e3-fa4e-e94d1dfc1d54"
      },
      "source": [
        "data.head()"
      ],
      "execution_count": 18,
      "outputs": [
        {
          "output_type": "execute_result",
          "data": {
            "text/html": [
              "<div>\n",
              "<style scoped>\n",
              "    .dataframe tbody tr th:only-of-type {\n",
              "        vertical-align: middle;\n",
              "    }\n",
              "\n",
              "    .dataframe tbody tr th {\n",
              "        vertical-align: top;\n",
              "    }\n",
              "\n",
              "    .dataframe thead th {\n",
              "        text-align: right;\n",
              "    }\n",
              "</style>\n",
              "<table border=\"1\" class=\"dataframe\">\n",
              "  <thead>\n",
              "    <tr style=\"text-align: right;\">\n",
              "      <th></th>\n",
              "      <th>age</th>\n",
              "      <th>sex</th>\n",
              "      <th>cp</th>\n",
              "      <th>trestbps</th>\n",
              "      <th>chol</th>\n",
              "      <th>fbs</th>\n",
              "      <th>restecg</th>\n",
              "      <th>thalach</th>\n",
              "      <th>exang</th>\n",
              "      <th>oldpeak</th>\n",
              "      <th>slope</th>\n",
              "      <th>ca</th>\n",
              "      <th>thal</th>\n",
              "      <th>target</th>\n",
              "    </tr>\n",
              "  </thead>\n",
              "  <tbody>\n",
              "    <tr>\n",
              "      <th>0</th>\n",
              "      <td>63</td>\n",
              "      <td>1</td>\n",
              "      <td>3</td>\n",
              "      <td>145</td>\n",
              "      <td>233</td>\n",
              "      <td>1</td>\n",
              "      <td>0</td>\n",
              "      <td>150</td>\n",
              "      <td>0</td>\n",
              "      <td>2.3</td>\n",
              "      <td>0</td>\n",
              "      <td>0</td>\n",
              "      <td>1</td>\n",
              "      <td>1</td>\n",
              "    </tr>\n",
              "    <tr>\n",
              "      <th>1</th>\n",
              "      <td>37</td>\n",
              "      <td>1</td>\n",
              "      <td>2</td>\n",
              "      <td>130</td>\n",
              "      <td>250</td>\n",
              "      <td>0</td>\n",
              "      <td>1</td>\n",
              "      <td>187</td>\n",
              "      <td>0</td>\n",
              "      <td>3.5</td>\n",
              "      <td>0</td>\n",
              "      <td>0</td>\n",
              "      <td>2</td>\n",
              "      <td>1</td>\n",
              "    </tr>\n",
              "    <tr>\n",
              "      <th>2</th>\n",
              "      <td>41</td>\n",
              "      <td>0</td>\n",
              "      <td>1</td>\n",
              "      <td>130</td>\n",
              "      <td>204</td>\n",
              "      <td>0</td>\n",
              "      <td>0</td>\n",
              "      <td>172</td>\n",
              "      <td>0</td>\n",
              "      <td>1.4</td>\n",
              "      <td>2</td>\n",
              "      <td>0</td>\n",
              "      <td>2</td>\n",
              "      <td>1</td>\n",
              "    </tr>\n",
              "    <tr>\n",
              "      <th>3</th>\n",
              "      <td>56</td>\n",
              "      <td>1</td>\n",
              "      <td>1</td>\n",
              "      <td>120</td>\n",
              "      <td>236</td>\n",
              "      <td>0</td>\n",
              "      <td>1</td>\n",
              "      <td>178</td>\n",
              "      <td>0</td>\n",
              "      <td>0.8</td>\n",
              "      <td>2</td>\n",
              "      <td>0</td>\n",
              "      <td>2</td>\n",
              "      <td>1</td>\n",
              "    </tr>\n",
              "    <tr>\n",
              "      <th>4</th>\n",
              "      <td>57</td>\n",
              "      <td>0</td>\n",
              "      <td>0</td>\n",
              "      <td>120</td>\n",
              "      <td>354</td>\n",
              "      <td>0</td>\n",
              "      <td>1</td>\n",
              "      <td>163</td>\n",
              "      <td>1</td>\n",
              "      <td>0.6</td>\n",
              "      <td>2</td>\n",
              "      <td>0</td>\n",
              "      <td>2</td>\n",
              "      <td>1</td>\n",
              "    </tr>\n",
              "  </tbody>\n",
              "</table>\n",
              "</div>"
            ],
            "text/plain": [
              "   age  sex  cp  trestbps  chol  fbs  ...  exang  oldpeak  slope  ca  thal  target\n",
              "0   63    1   3       145   233    1  ...      0      2.3      0   0     1       1\n",
              "1   37    1   2       130   250    0  ...      0      3.5      0   0     2       1\n",
              "2   41    0   1       130   204    0  ...      0      1.4      2   0     2       1\n",
              "3   56    1   1       120   236    0  ...      0      0.8      2   0     2       1\n",
              "4   57    0   0       120   354    0  ...      1      0.6      2   0     2       1\n",
              "\n",
              "[5 rows x 14 columns]"
            ]
          },
          "metadata": {
            "tags": []
          },
          "execution_count": 18
        }
      ]
    },
    {
      "cell_type": "code",
      "metadata": {
        "id": "8S3s2YrdmDZ9",
        "colab_type": "code",
        "colab": {
          "base_uri": "https://localhost:8080/",
          "height": 52
        },
        "outputId": "608fc20f-2eb5-4eff-f697-18cc02ee3c35"
      },
      "source": [
        "#Checking if the dataset is balanced\n",
        "print(\"No of positive samples are: \",list(data[\"target\"]).count(1))\n",
        "print(\"No of negative samples are: \",list(data[\"target\"]).count(0))"
      ],
      "execution_count": 19,
      "outputs": [
        {
          "output_type": "stream",
          "text": [
            "No of positive samples are:  165\n",
            "No of negative samples are:  138\n"
          ],
          "name": "stdout"
        }
      ]
    },
    {
      "cell_type": "markdown",
      "metadata": {
        "id": "YhKb9-5vnujS",
        "colab_type": "text"
      },
      "source": [
        "We can see that the dataset is not very imbalenced and we can thus use accuracy as our performance metric."
      ]
    },
    {
      "cell_type": "markdown",
      "metadata": {
        "id": "WI6yRMCop-xw",
        "colab_type": "text"
      },
      "source": [
        "Let us now check if there is any missing data in any columns"
      ]
    },
    {
      "cell_type": "code",
      "metadata": {
        "id": "MdwkmGV5qBbz",
        "colab_type": "code",
        "colab": {
          "base_uri": "https://localhost:8080/",
          "height": 276
        },
        "outputId": "47e98500-8a24-42a3-bfcc-1554174fd86e"
      },
      "source": [
        "#missing data in each column\n",
        "print(data.isnull().sum(axis = 0))"
      ],
      "execution_count": 61,
      "outputs": [
        {
          "output_type": "stream",
          "text": [
            "age         0\n",
            "sex         0\n",
            "cp          0\n",
            "trestbps    0\n",
            "chol        0\n",
            "fbs         0\n",
            "restecg     0\n",
            "thalach     0\n",
            "exang       0\n",
            "oldpeak     0\n",
            "slope       0\n",
            "ca          0\n",
            "thal        0\n",
            "target      0\n",
            "dtype: int64\n"
          ],
          "name": "stdout"
        }
      ]
    },
    {
      "cell_type": "markdown",
      "metadata": {
        "id": "3V2MNWIBG2SZ",
        "colab_type": "text"
      },
      "source": [
        "There seems to be no missing data."
      ]
    },
    {
      "cell_type": "code",
      "metadata": {
        "id": "BDPMNJioqGqe",
        "colab_type": "code",
        "colab": {
          "base_uri": "https://localhost:8080/",
          "height": 35
        },
        "outputId": "318c6783-9b0c-4b77-a800-4559a7a43d32"
      },
      "source": [
        "#Checking if there is any data outside 3 standard deviations of a standard normal\n",
        "set(list((np.abs(stats.zscore(data)) < 3).all(axis=1)))"
      ],
      "execution_count": 63,
      "outputs": [
        {
          "output_type": "execute_result",
          "data": {
            "text/plain": [
              "{False, True}"
            ]
          },
          "metadata": {
            "tags": []
          },
          "execution_count": 63
        }
      ]
    },
    {
      "cell_type": "markdown",
      "metadata": {
        "id": "yFsxdsLhqvwo",
        "colab_type": "text"
      },
      "source": [
        "There are outliers in the data, but we will not be removing them, as this data is from actual samples and the outliers might not have been a mistake in the recording."
      ]
    },
    {
      "cell_type": "markdown",
      "metadata": {
        "id": "zZohpdilG86c",
        "colab_type": "text"
      },
      "source": [
        "### Plotting all variables against the target"
      ]
    },
    {
      "cell_type": "code",
      "metadata": {
        "id": "QX6wB_2erO6_",
        "colab_type": "code",
        "colab": {
          "base_uri": "https://localhost:8080/",
          "height": 971
        },
        "outputId": "c9d083ea-aa67-4b94-98e9-da1ccb971bf6"
      },
      "source": [
        "#plots of covariates with the binary target variable\n",
        "\n",
        "\n",
        "fig, axes = plt.subplots(2, 2, figsize=(18,16))\n",
        "axes[0, 0].scatter(data['age'],data['target'])\n",
        "axes[0,0].set_title(\"age v/s target\",fontsize=24)\n",
        "axes[0,0].set_xlabel(\"age\",fontsize=24)\n",
        "axes[0,0].set_ylabel(\"target\",fontsize=24)\n",
        "\n",
        "axes[0, 1].scatter(data['sex'],data['target'])\n",
        "axes[0,1].set_title(\"sex v/s target\",fontsize=24)\n",
        "axes[0,1].set_xlabel(\"sex\",fontsize=24)\n",
        "axes[0,1].set_ylabel(\"target\",fontsize=24)\n",
        "\n",
        "axes[1, 0].scatter(data['trestbps'],data['target'])\n",
        "axes[1,0].set_title(\"trestbps v/s target\",fontsize=24)\n",
        "axes[1,0].set_xlabel(\"trestbps\",fontsize=24)\n",
        "axes[1,0].set_ylabel(\"target\",fontsize=24)\n",
        "\n",
        "\n",
        "axes[1, 1].scatter(data['cp'],data['target'])\n",
        "axes[1,1].set_title(\"cp v/s target\",fontsize=24)\n",
        "axes[1,1].set_xlabel(\"cp\",fontsize=24)\n",
        "axes[1,1].set_ylabel(\"target\",fontsize=24);"
      ],
      "execution_count": 65,
      "outputs": [
        {
          "output_type": "display_data",
          "data": {
            "image/png": "[encoded data removed]",
            "text/plain": [
              "<Figure size 1296x1152 with 4 Axes>"
            ]
          },
          "metadata": {
            "tags": [],
            "needs_background": "light"
          }
        }
      ]
    },
    {
      "cell_type": "code",
      "metadata": {
        "id": "bRK1eZ1dswiv",
        "colab_type": "code",
        "colab": {
          "base_uri": "https://localhost:8080/",
          "height": 971
        },
        "outputId": "96c5c556-e971-4d74-bd1b-01e230c99aaf"
      },
      "source": [
        "#plots of covariates with the binary target variable\n",
        "\n",
        "\n",
        "fig, axes = plt.subplots(2, 2, figsize=(18,16))\n",
        "axes[0, 0].scatter(data['chol'],data['target'])\n",
        "axes[0,0].set_title(\"chol v/s target\",fontsize=24)\n",
        "axes[0,0].set_xlabel(\"chol\",fontsize=24)\n",
        "axes[0,0].set_ylabel(\"target\",fontsize=24)\n",
        "\n",
        "axes[0, 1].scatter(data['fbs'],data['target'])\n",
        "axes[0,1].set_title(\"fbs v/s target\",fontsize=24)\n",
        "axes[0,1].set_xlabel(\"fbs\",fontsize=24)\n",
        "axes[0,1].set_ylabel(\"target\",fontsize=24)\n",
        "\n",
        "axes[1, 0].scatter(data['exang'],data['target'])\n",
        "axes[1,0].set_title(\"exang v/s target\",fontsize=24)\n",
        "axes[1,0].set_xlabel(\"exang\",fontsize=24)\n",
        "axes[1,0].set_ylabel(\"target\",fontsize=24)\n",
        "\n",
        "\n",
        "axes[1, 1].scatter(data['restecg'],data['target'])\n",
        "axes[1,1].set_title(\"restecg v/s target\",fontsize=24)\n",
        "axes[1,1].set_xlabel(\"restecg\",fontsize=24)\n",
        "axes[1,1].set_ylabel(\"target\",fontsize=24);"
      ],
      "execution_count": 66,
      "outputs": [
        {
          "output_type": "display_data",
          "data": {
            "image/png": "[encoded data removed]",
            "text/plain": [
              "<Figure size 1296x1152 with 4 Axes>"
            ]
          },
          "metadata": {
            "tags": [],
            "needs_background": "light"
          }
        }
      ]
    },
    {
      "cell_type": "code",
      "metadata": {
        "id": "_td0u_xlteb1",
        "colab_type": "code",
        "colab": {
          "base_uri": "https://localhost:8080/",
          "height": 78
        },
        "outputId": "73137100-99c2-4f3f-bf22-eac112ff7317"
      },
      "source": [
        "data[data[\"chol\"]>450]"
      ],
      "execution_count": 67,
      "outputs": [
        {
          "output_type": "execute_result",
          "data": {
            "text/html": [
              "<div>\n",
              "<style scoped>\n",
              "    .dataframe tbody tr th:only-of-type {\n",
              "        vertical-align: middle;\n",
              "    }\n",
              "\n",
              "    .dataframe tbody tr th {\n",
              "        vertical-align: top;\n",
              "    }\n",
              "\n",
              "    .dataframe thead th {\n",
              "        text-align: right;\n",
              "    }\n",
              "</style>\n",
              "<table border=\"1\" class=\"dataframe\">\n",
              "  <thead>\n",
              "    <tr style=\"text-align: right;\">\n",
              "      <th></th>\n",
              "      <th>age</th>\n",
              "      <th>sex</th>\n",
              "      <th>cp</th>\n",
              "      <th>trestbps</th>\n",
              "      <th>chol</th>\n",
              "      <th>fbs</th>\n",
              "      <th>restecg</th>\n",
              "      <th>thalach</th>\n",
              "      <th>exang</th>\n",
              "      <th>oldpeak</th>\n",
              "      <th>slope</th>\n",
              "      <th>ca</th>\n",
              "      <th>thal</th>\n",
              "      <th>target</th>\n",
              "    </tr>\n",
              "  </thead>\n",
              "  <tbody>\n",
              "    <tr>\n",
              "      <th>85</th>\n",
              "      <td>67</td>\n",
              "      <td>0</td>\n",
              "      <td>2</td>\n",
              "      <td>115</td>\n",
              "      <td>564</td>\n",
              "      <td>0</td>\n",
              "      <td>0</td>\n",
              "      <td>160</td>\n",
              "      <td>0</td>\n",
              "      <td>1.6</td>\n",
              "      <td>1</td>\n",
              "      <td>0</td>\n",
              "      <td>3</td>\n",
              "      <td>1</td>\n",
              "    </tr>\n",
              "  </tbody>\n",
              "</table>\n",
              "</div>"
            ],
            "text/plain": [
              "    age  sex  cp  trestbps  chol  fbs  ...  exang  oldpeak  slope  ca  thal  target\n",
              "85   67    0   2       115   564    0  ...      0      1.6      1   0     3       1\n",
              "\n",
              "[1 rows x 14 columns]"
            ]
          },
          "metadata": {
            "tags": []
          },
          "execution_count": 67
        }
      ]
    },
    {
      "cell_type": "markdown",
      "metadata": {
        "id": "B-KNae3vtiIu",
        "colab_type": "text"
      },
      "source": [
        "One interesting observation we made from this plot is that there is only one point with cholestrol value greater than 450 and this person had the heart disease. "
      ]
    },
    {
      "cell_type": "code",
      "metadata": {
        "id": "_rpIddfIs-Zl",
        "colab_type": "code",
        "colab": {
          "base_uri": "https://localhost:8080/",
          "height": 971
        },
        "outputId": "d4ab34b7-6797-4be0-8102-1a600b44cbe1"
      },
      "source": [
        "#plots of covariates with the binary target variable\n",
        "\n",
        "\n",
        "fig, axes = plt.subplots(2, 2, figsize=(18,16))\n",
        "axes[0, 0].scatter(data['oldpeak'],data['target'])\n",
        "axes[0,0].set_title(\"oldpeak v/s target\",fontsize=24)\n",
        "axes[0,0].set_xlabel(\"oldpeak\",fontsize=24)\n",
        "axes[0,0].set_ylabel(\"target\",fontsize=24)\n",
        "\n",
        "axes[0, 1].scatter(data['slope'],data['target'])\n",
        "axes[0,1].set_title(\"slope v/s target\",fontsize=24)\n",
        "axes[0,1].set_xlabel(\"slope\",fontsize=24)\n",
        "axes[0,1].set_ylabel(\"target\",fontsize=24)\n",
        "\n",
        "axes[1, 0].scatter(data['ca'],data['target'])\n",
        "axes[1,0].set_title(\"ca v/s target\",fontsize=24)\n",
        "axes[1,0].set_xlabel(\"ca\",fontsize=24)\n",
        "axes[1,0].set_ylabel(\"target\",fontsize=24)\n",
        "\n",
        "\n",
        "axes[1, 1].scatter(data['thal'],data['target'])\n",
        "axes[1,1].set_title(\"thal v/s target\",fontsize=24)\n",
        "axes[1,1].set_xlabel(\"thal\",fontsize=24)\n",
        "axes[1,1].set_ylabel(\"target\",fontsize=24);"
      ],
      "execution_count": 68,
      "outputs": [
        {
          "output_type": "display_data",
          "data": {
            "image/png": "[encoded data removed]",
            "text/plain": [
              "<Figure size 1296x1152 with 4 Axes>"
            ]
          },
          "metadata": {
            "tags": [],
            "needs_background": "light"
          }
        }
      ]
    },
    {
      "cell_type": "code",
      "metadata": {
        "id": "_fnPkCDUuIUb",
        "colab_type": "code",
        "colab": {
          "base_uri": "https://localhost:8080/",
          "height": 108
        },
        "outputId": "92fdcdcd-b4eb-470b-aacb-178456f1206b"
      },
      "source": [
        "data[data[\"oldpeak\"]>5]"
      ],
      "execution_count": 69,
      "outputs": [
        {
          "output_type": "execute_result",
          "data": {
            "text/html": [
              "<div>\n",
              "<style scoped>\n",
              "    .dataframe tbody tr th:only-of-type {\n",
              "        vertical-align: middle;\n",
              "    }\n",
              "\n",
              "    .dataframe tbody tr th {\n",
              "        vertical-align: top;\n",
              "    }\n",
              "\n",
              "    .dataframe thead th {\n",
              "        text-align: right;\n",
              "    }\n",
              "</style>\n",
              "<table border=\"1\" class=\"dataframe\">\n",
              "  <thead>\n",
              "    <tr style=\"text-align: right;\">\n",
              "      <th></th>\n",
              "      <th>age</th>\n",
              "      <th>sex</th>\n",
              "      <th>cp</th>\n",
              "      <th>trestbps</th>\n",
              "      <th>chol</th>\n",
              "      <th>fbs</th>\n",
              "      <th>restecg</th>\n",
              "      <th>thalach</th>\n",
              "      <th>exang</th>\n",
              "      <th>oldpeak</th>\n",
              "      <th>slope</th>\n",
              "      <th>ca</th>\n",
              "      <th>thal</th>\n",
              "      <th>target</th>\n",
              "    </tr>\n",
              "  </thead>\n",
              "  <tbody>\n",
              "    <tr>\n",
              "      <th>204</th>\n",
              "      <td>62</td>\n",
              "      <td>0</td>\n",
              "      <td>0</td>\n",
              "      <td>160</td>\n",
              "      <td>164</td>\n",
              "      <td>0</td>\n",
              "      <td>0</td>\n",
              "      <td>145</td>\n",
              "      <td>0</td>\n",
              "      <td>6.2</td>\n",
              "      <td>0</td>\n",
              "      <td>3</td>\n",
              "      <td>3</td>\n",
              "      <td>0</td>\n",
              "    </tr>\n",
              "    <tr>\n",
              "      <th>221</th>\n",
              "      <td>55</td>\n",
              "      <td>1</td>\n",
              "      <td>0</td>\n",
              "      <td>140</td>\n",
              "      <td>217</td>\n",
              "      <td>0</td>\n",
              "      <td>1</td>\n",
              "      <td>111</td>\n",
              "      <td>1</td>\n",
              "      <td>5.6</td>\n",
              "      <td>0</td>\n",
              "      <td>0</td>\n",
              "      <td>3</td>\n",
              "      <td>0</td>\n",
              "    </tr>\n",
              "  </tbody>\n",
              "</table>\n",
              "</div>"
            ],
            "text/plain": [
              "     age  sex  cp  trestbps  chol  fbs  ...  exang  oldpeak  slope  ca  thal  target\n",
              "204   62    0   0       160   164    0  ...      0      6.2      0   3     3       0\n",
              "221   55    1   0       140   217    0  ...      1      5.6      0   0     3       0\n",
              "\n",
              "[2 rows x 14 columns]"
            ]
          },
          "metadata": {
            "tags": []
          },
          "execution_count": 69
        }
      ]
    },
    {
      "cell_type": "markdown",
      "metadata": {
        "id": "8dHnHPlxuRdn",
        "colab_type": "text"
      },
      "source": [
        "One other interesting thing we observed here is that there are only 2 values that had old peak > 5, and both of them are negative samples."
      ]
    },
    {
      "cell_type": "markdown",
      "metadata": {
        "id": "0iXqcXytHEpm",
        "colab_type": "text"
      },
      "source": [
        "### Reason for plotting categorical against categorical (target) and continuous against categorical (target) variables\n",
        "\n",
        "We wanted to see if the categorical variable is giving away the target for any value it takes. For continuous variables we wanted to see if any threshold of the continuous value is giving away the target. However, this doesn't seems to be the case. "
      ]
    },
    {
      "cell_type": "markdown",
      "metadata": {
        "id": "oYxgBiGIIfMX",
        "colab_type": "text"
      },
      "source": [
        "### Question 2\n",
        "A. Fitting Logistic Regression and Random Forest Models"
      ]
    },
    {
      "cell_type": "code",
      "metadata": {
        "id": "mufkSkHakwhS",
        "colab_type": "code",
        "colab": {}
      },
      "source": [
        "#Shuffle the dataset because the data was grouped by the target variable\n",
        "data = shuffle(data)\n",
        "\n",
        "#Resetting indices after shuffling\n",
        "data.reset_index(inplace=True, drop=True)"
      ],
      "execution_count": 0,
      "outputs": []
    },
    {
      "cell_type": "code",
      "metadata": {
        "id": "x5vm5UnwnhRZ",
        "colab_type": "code",
        "colab": {
          "base_uri": "https://localhost:8080/",
          "height": 52
        },
        "outputId": "b314eb0e-0d67-44e4-a04e-64c7c53176c1"
      },
      "source": [
        "#splitting the dataset into X and Y (target and the training columns)\n",
        "y=np.array(pd.DataFrame(data['target'])).ravel()\n",
        "X= data.loc[:, data.columns != 'target']\n",
        "\n",
        "#stratify the train-test split\n",
        "X_train, X_test, y_train, y_test = train_test_split(X, y,test_size=0.2,stratify=y)\n",
        "\n",
        "#Encoding and scaling the data\n",
        "cat_variables= [\"cp\",\"thal\"]\n",
        "cont_variables= [\"age\",\"trestbps\",\"chol\",\"oldpeak\",\"thalach\"]\n",
        "\n",
        "cont_preprocessing = make_pipeline(StandardScaler())\n",
        "cat_preprocessing = make_pipeline(OneHotEncoder(handle_unknown='ignore', sparse=False))\n",
        "\n",
        "preprocess = make_column_transformer((cat_preprocessing, cat_variables), (cont_preprocessing,cont_variables), remainder='passthrough')\n",
        "\n",
        "pipe_grid={}\n",
        "grid = GridSearchCV(make_pipeline(preprocess,LogisticRegression(n_jobs=-1)),param_grid=pipe_grid,cv=5,scoring=\"accuracy\")\n",
        "grid.fit(X_train,y_train)\n",
        "\n",
        "print(\"Training Score for Simple Logistic Regression Model: \",grid.best_score_)\n",
        "print(\"Testing Score for Simple Logistic Regression Model: \", grid.best_estimator_.score(X_test, y_test))\n"
      ],
      "execution_count": 24,
      "outputs": [
        {
          "output_type": "stream",
          "text": [
            "Training Score for Simple Logistic Regression Model:  0.8385204081632652\n",
            "Testing Score for Simple Logistic Regression Model:  0.819672131147541\n"
          ],
          "name": "stdout"
        }
      ]
    },
    {
      "cell_type": "markdown",
      "metadata": {
        "id": "81Wf1QNoUqHn",
        "colab_type": "text"
      },
      "source": [
        "### Making a Random Forest classifier"
      ]
    },
    {
      "cell_type": "code",
      "metadata": {
        "id": "WMRq8gLoXgtR",
        "colab_type": "code",
        "colab": {
          "base_uri": "https://localhost:8080/",
          "height": 35
        },
        "outputId": "396aa319-92ce-4460-d69b-a6bd3a3e1f2b"
      },
      "source": [
        "p=make_pipeline(preprocess,RandomForestClassifier(500,n_jobs=-1))\n",
        "p.fit(X_train,y_train)\n",
        "print(\"Testing Score for Random Forest Model: \", p.score(X_test, y_test))"
      ],
      "execution_count": 25,
      "outputs": [
        {
          "output_type": "stream",
          "text": [
            "Testing Score for Random Forest Model:  0.819672131147541\n"
          ],
          "name": "stdout"
        }
      ]
    },
    {
      "cell_type": "markdown",
      "metadata": {
        "id": "qJbqPXh-IpcC",
        "colab_type": "text"
      },
      "source": [
        "### Question 2\n",
        "B. Getting the feature importances from the random forest classifier"
      ]
    },
    {
      "cell_type": "code",
      "metadata": {
        "id": "PGwrP9qSaLAQ",
        "colab_type": "code",
        "colab": {}
      },
      "source": [
        "#Using feature importances from random forest model\n",
        "C=preprocess.fit_transform(X_train)\n",
        "feature_names=preprocess.named_transformers_['pipeline-1'][0].get_feature_names(cat_variables)\n",
        "feature_names = np.r_[feature_names, cont_variables,[\"sex\",\"fbs\",\"restecg\",\"exang\",\"slope\",\"ca\"]]"
      ],
      "execution_count": 0,
      "outputs": []
    },
    {
      "cell_type": "code",
      "metadata": {
        "id": "V4Av8wKIc3NU",
        "colab_type": "code",
        "colab": {
          "base_uri": "https://localhost:8080/",
          "height": 297
        },
        "outputId": "a7b5cd38-719c-4aea-9e16-df5ef69e08d9"
      },
      "source": [
        "tree_feature_importances = p.named_steps['randomforestclassifier'].feature_importances_\n",
        "sorted_idx = tree_feature_importances.argsort()\n",
        "\n",
        "y_ticks = np.arange(0, len(feature_names))\n",
        "fig, ax = plt.subplots()\n",
        "ax.barh(y_ticks, tree_feature_importances[sorted_idx])\n",
        "ax.set_yticklabels(feature_names[sorted_idx])\n",
        "ax.set_yticks(y_ticks)\n",
        "ax.set_title(\"Random Forest Feature Importances (MDI)\")\n",
        "fig.tight_layout()\n",
        "plt.show()"
      ],
      "execution_count": 215,
      "outputs": [
        {
          "output_type": "display_data",
          "data": {
            "image/png": "[encoded data removed]",
            "text/plain": [
              "<Figure size 432x288 with 1 Axes>"
            ]
          },
          "metadata": {
            "tags": [],
            "needs_background": "light"
          }
        }
      ]
    },
    {
      "cell_type": "markdown",
      "metadata": {
        "id": "ld8w5I7TliRA",
        "colab_type": "text"
      },
      "source": [
        "Note: MDI is Mean Decrease in Impurity\n",
        "From the feature importances of a random forest model we can see that ca (no of major vessels), oldpeak, thalach (maximum heart rate achieved), chest pain of type 0, age and the cholestrol level are a major contributing factors to heart attack."
      ]
    },
    {
      "cell_type": "markdown",
      "metadata": {
        "id": "WbeH7vu2mhbr",
        "colab_type": "text"
      },
      "source": [
        "### Feature Importances from the coefficients of the logistic regression model"
      ]
    },
    {
      "cell_type": "code",
      "metadata": {
        "id": "eZy-W1b-mqne",
        "colab_type": "code",
        "colab": {
          "base_uri": "https://localhost:8080/",
          "height": 297
        },
        "outputId": "34a35d44-5e5c-4152-854d-a3507c3e7b02"
      },
      "source": [
        "imp=np.abs(grid.best_estimator_.named_steps['logisticregression'].coef_[0])\n",
        "\n",
        "sorted_idx1 = imp.argsort()\n",
        "\n",
        "y_ticks = np.arange(0, len(feature_names))\n",
        "fig, ax = plt.subplots()\n",
        "ax.barh(y_ticks, imp[sorted_idx1])\n",
        "ax.set_yticklabels(feature_names[sorted_idx1])\n",
        "ax.set_yticks(y_ticks)\n",
        "ax.set_title(\"Coefficients of Logistic Regression Model\")\n",
        "fig.tight_layout()\n",
        "plt.show()"
      ],
      "execution_count": 244,
      "outputs": [
        {
          "output_type": "display_data",
          "data": {
            "image/png": "[encoded data removed]",
            "text/plain": [
              "<Figure size 432x288 with 1 Axes>"
            ]
          },
          "metadata": {
            "tags": [],
            "needs_background": "light"
          }
        }
      ]
    },
    {
      "cell_type": "markdown",
      "metadata": {
        "id": "qkEEy7_JooIX",
        "colab_type": "text"
      },
      "source": [
        "From the coefficients of the logistic regression we can see that sex, chest pain of type 0, thal3, oldpeak, ca, and exang are major contributing factors of heart disease. The important features more or less are the same for both the models."
      ]
    },
    {
      "cell_type": "markdown",
      "metadata": {
        "id": "b0Z8T7k-pwB1",
        "colab_type": "text"
      },
      "source": [
        "### Permutation Importances on the test set from both the models"
      ]
    },
    {
      "cell_type": "code",
      "metadata": {
        "id": "cjoTLP0_od9e",
        "colab_type": "code",
        "colab": {}
      },
      "source": [
        "result = permutation_importance(p, X_test, y_test, n_repeats=10,\n",
        "                                random_state=42, n_jobs=2)\n",
        "sorted_idx = result.importances_mean.argsort()"
      ],
      "execution_count": 0,
      "outputs": []
    },
    {
      "cell_type": "code",
      "metadata": {
        "id": "XmIm1rLoqg3F",
        "colab_type": "code",
        "colab": {
          "base_uri": "https://localhost:8080/",
          "height": 297
        },
        "outputId": "1ae45609-0863-4472-b497-527a4130f342"
      },
      "source": [
        "fig, ax = plt.subplots()\n",
        "ax.scatter(y=result.importances_mean[sorted_idx].T,\n",
        "            x=X_test.columns[sorted_idx])\n",
        "ax.set_title(\"Permutation Importances (test set) Random Forest\")\n",
        "plt.xticks(rotation=90)\n",
        "fig.tight_layout()\n",
        "plt.show()"
      ],
      "execution_count": 256,
      "outputs": [
        {
          "output_type": "display_data",
          "data": {
            "image/png": "[encoded data removed]",
            "text/plain": [
              "<Figure size 432x288 with 1 Axes>"
            ]
          },
          "metadata": {
            "tags": [],
            "needs_background": "light"
          }
        }
      ]
    },
    {
      "cell_type": "markdown",
      "metadata": {
        "id": "BiX-0e5rribn",
        "colab_type": "text"
      },
      "source": [
        "From the permutation importances using the random forest model, we see that the cp (chest pain) column (before one hot encoing), thal column (before one hot encoding), sex, slope, fbs and restecg have the highest importance."
      ]
    },
    {
      "cell_type": "code",
      "metadata": {
        "id": "KtBWBtSwr9BO",
        "colab_type": "code",
        "colab": {}
      },
      "source": [
        "result = permutation_importance(grid.best_estimator_, X_test, y_test, n_repeats=10,\n",
        "                                random_state=42, n_jobs=2)\n",
        "sorted_idx = result.importances_mean.argsort()"
      ],
      "execution_count": 0,
      "outputs": []
    },
    {
      "cell_type": "code",
      "metadata": {
        "id": "HvQQZL89sC9u",
        "colab_type": "code",
        "colab": {
          "base_uri": "https://localhost:8080/",
          "height": 297
        },
        "outputId": "77b29298-2ab4-4e8c-d98b-836b05767b29"
      },
      "source": [
        "fig, ax = plt.subplots()\n",
        "ax.scatter(y=result.importances_mean[sorted_idx].T,\n",
        "            x=X_test.columns[sorted_idx])\n",
        "ax.set_title(\"Permutation Importances (test set) Logistic Regression\")\n",
        "plt.xticks(rotation=90)\n",
        "fig.tight_layout()\n",
        "plt.show()"
      ],
      "execution_count": 259,
      "outputs": [
        {
          "output_type": "display_data",
          "data": {
            "image/png": "[encoded data removed]",
            "text/plain": [
              "<Figure size 432x288 with 1 Axes>"
            ]
          },
          "metadata": {
            "tags": [],
            "needs_background": "light"
          }
        }
      ]
    },
    {
      "cell_type": "markdown",
      "metadata": {
        "id": "p76P6MOnsJ6C",
        "colab_type": "text"
      },
      "source": [
        "According to feature importances using logistic regression the features ca, cp, trestbps, exang, thal and slope cause the maximum impact on the target prediction."
      ]
    }
  ]
}